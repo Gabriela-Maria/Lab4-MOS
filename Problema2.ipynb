{
 "cells": [
  {
   "cell_type": "markdown",
   "id": "1f2bf045",
   "metadata": {},
   "source": [
    "# Problema 2: Implementación del Método Simplex Dual Phase"
   ]
  },
  {
   "cell_type": "code",
   "execution_count": 39,
   "id": "fae114f6",
   "metadata": {},
   "outputs": [],
   "source": [
    "import numpy as np\n",
    "import pandas as pd\n",
    "def show_table(table: pd.DataFrame, title: str = \"\"):\n",
    "    from tabulate import tabulate\n",
    "    \n",
    "    if title:\n",
    "        print(f\"=== {title} ===\")\n",
    "    print(tabulate(table, headers=\"keys\", tablefmt=\"psql\", showindex=True))\n",
    "    print()  # Separación final\n",
    "\n"
   ]
  },
  {
   "cell_type": "markdown",
   "id": "20631308",
   "metadata": {},
   "source": [
    "### 0. Problema a minimizar\n",
    "\n",
    "<p align=\"center\">\n",
    "Minimizar <br>\n",
    "Z = 5x1 − 4x2 + 3x3<br>\n",
    "sujeto a<br>\n",
    "2x1 + x2 − x3 = 10<br>\n",
    "x1 − 3x2 + 2x3 ≥ 5<br>\n",
    "x1 + x2 + x3 ≤ 15<br>\n",
    "x1, x2, x3 ≥ 0\n",
    "</p>"
   ]
  },
  {
   "cell_type": "markdown",
   "id": "dcba92ec",
   "metadata": {},
   "source": [
    "# FASE 1\n",
    "\n",
    "#### a. Introducir las variables necesarias\n",
    "#### b. Formular el problema auxiliar que minimiza la suma de variables artificial\n",
    "\n",
    "<p align=\"center\">\n",
    "Maximizar la f. o. auxiliar (min w = x4 + x6) <br>\n",
    "max w' = -x4 -x6 <br>\n",
    "sujeto a<br>\n",
    "2x1 + x2 − x3 + x4 = 10<br> \n",
    "x1 − 3x2 + 2x3 -x5 + x6 = 5<br>\n",
    "x1 + x2 + x3 +x7 = 15<br>\n",
    "</p>"
   ]
  },
  {
   "cell_type": "code",
   "execution_count": 40,
   "id": "c3a7827e",
   "metadata": {},
   "outputs": [
    {
     "name": "stdout",
     "output_type": "stream",
     "text": [
      "Tabla inicial (Fase I - antes de aplicar Simplex):\n",
      "+----+------+------+------+------+------+------+------+----------------+\n",
      "|    |   x1 |   x2 |   x3 |   x4 |   x5 |   x6 |   x7 |   lado derecho |\n",
      "|----+------+------+------+------+------+------+------+----------------|\n",
      "| x4 |    2 |    1 |   -1 |    1 |    0 |    0 |    0 |             10 |\n",
      "| x6 |    1 |   -3 |    2 |    0 |   -1 |    1 |    0 |              5 |\n",
      "| x7 |    1 |    1 |    1 |    0 |    0 |    0 |    1 |             15 |\n",
      "| Z  |    0 |    0 |    0 |   -1 |    0 |   -1 |    0 |              0 |\n",
      "+----+------+------+------+------+------+------+------+----------------+\n",
      "\n"
     ]
    }
   ],
   "source": [
    "\n",
    "\n",
    "# x1, x2, x3: variables originales del problema\n",
    "# x4: variable artificial para la restricción 1 (igualdad)\n",
    "# x5: variable de exceso para la restricción 2 (≥)\n",
    "# x6: variable artificial para la restricción 2 (≥)\n",
    "# x7: variable de holgura para la restricción 3 (≤)\n",
    "# ld: lado derecho de cada ecuación \n",
    "\n",
    "                        # x1, x2, x3, x4, x5, x6, x7, ld\n",
    "restricciones = np.array([\n",
    "                         [ 2, 1 , -1, 1 , 0 , 0 , 0, 10 ], # R1: Igualdad -> se añade x4 (artificial)\n",
    "                         [ 1, -3, 2, 0 , -1 , 1 , 0, 5 ], # R2: ≥ -> se resta x5 (exceso) y se añade x6 (artificial)\n",
    "                         [ 1, 1 , 1, 0 , 0 , 0 , 1, 15 ]  # R3: ≤ -> se añade x7 (holgura)\n",
    "                         ])\n",
    "columnas = ['x1', 'x2', 'x3', 'x4', 'x5', 'x6', 'x7', 'lado derecho']\n",
    "base = ['x4', 'x6', 'x7']  # variables básicas \n",
    "artificiales = ['x4', 'x6']  # variables artificiales\n",
    "coeficientes_z = { # coeficientes de la función objetivo Z multiplicados por -1, pues se quiere minimizar\n",
    "    'x1': -5,\n",
    "    'x2': 4,\n",
    "    'x3': -3,\n",
    "    'x5': 0,\n",
    "    'x7': 0,\n",
    "    'lado derecho': 0\n",
    "}\n",
    "tabla_inicial = pd.DataFrame(restricciones, columns=columnas, index=base)\n",
    "\n",
    "\n",
    "tabla_inicial.loc['Z'] = [ 0, 0, 0, -1, 0, -1, 0, 0]  # agregar fila Z con el problema auxiliar \n",
    "print(\"Tabla inicial (Fase I - antes de aplicar Simplex):\")\n",
    "show_table(tabla_inicial)\n"
   ]
  },
  {
   "cell_type": "markdown",
   "id": "824e3b94",
   "metadata": {},
   "source": [
    "#### c. Resolver este problema auxiliar utilizando el método Simplex estándar\n",
    "\n",
    "siguiendo los pasos del laboratorio: \n",
    "\n",
    " 1. VERIFICAR OPTIMALIDAD\n",
    " -  Calcular los costos reducidos ¯cj para cada variable no básica."
   ]
  },
  {
   "cell_type": "code",
   "execution_count": 41,
   "id": "6edc4819",
   "metadata": {},
   "outputs": [
    {
     "name": "stdout",
     "output_type": "stream",
     "text": [
      "\n",
      "Tabla inicial:\n",
      "+----+------+------+------+------+------+------+------+----------------+\n",
      "|    |   x1 |   x2 |   x3 |   x4 |   x5 |   x6 |   x7 |   lado derecho |\n",
      "|----+------+------+------+------+------+------+------+----------------|\n",
      "| x4 |    2 |    1 |   -1 |    1 |    0 |    0 |    0 |             10 |\n",
      "| x6 |    1 |   -3 |    2 |    0 |   -1 |    1 |    0 |              5 |\n",
      "| x7 |    1 |    1 |    1 |    0 |    0 |    0 |    1 |             15 |\n",
      "| Z  |   -3 |    2 |   -1 |   -1 |    1 |   -1 |    0 |            -15 |\n",
      "+----+------+------+------+------+------+------+------+----------------+\n",
      "\n"
     ]
    }
   ],
   "source": [
    "def calcular_costos_reducidos(tabla, base):\n",
    "    #sacar z de la tabla\n",
    "    z = np.zeros(tabla.shape[1]) # inicializar la fila Z con ceros\n",
    "\n",
    "    # multiplcar la fila de cada base por su coeficiente en la fila Z ej: x4 -> [2,1,-1,1,0,0,0,10] * 0\n",
    "    for b in base:\n",
    "        coef = tabla.loc['Z', b]\n",
    "        fila = tabla.loc[b]\n",
    "        z += coef * fila\n",
    "    \n",
    "    tabla.loc['Z'] = z  # actualizar fila Z con los costos reducidos\n",
    "    return tabla\n",
    "\n",
    "tabla_actualizada = calcular_costos_reducidos(tabla_inicial.copy(), base)\n",
    "print(\"\\nTabla inicial:\")\n",
    "show_table(tabla_actualizada)\n"
   ]
  },
  {
   "cell_type": "markdown",
   "id": "fcc12c5f",
   "metadata": {},
   "source": [
    "- Si todos los costos reducidos son no negativos (para maximización), la solución actual es óptima. Terminar."
   ]
  },
  {
   "cell_type": "code",
   "execution_count": 42,
   "id": "295d0d05",
   "metadata": {},
   "outputs": [],
   "source": [
    "def verificar_optimalidad(tabla):\n",
    "    # Verificar si todos los costos reducidos son no negativos\n",
    "    return all(tabla.loc['Z'][:-1] >= 0)  # Exepto el lado derecho"
   ]
  },
  {
   "cell_type": "markdown",
   "id": "e804833d",
   "metadata": {},
   "source": [
    "2. Seleccionar variable de entrada\n",
    "\n",
    "- Elegir una variable no básica con costo reducido negativo (para maximización) para ingresar a la base.\n",
    "- Regla de Dantzig: seleccionar la variable con el costo reducido más negativo."
   ]
  },
  {
   "cell_type": "code",
   "execution_count": 43,
   "id": "50ad3d9c",
   "metadata": {},
   "outputs": [],
   "source": [
    "def seleccionar_var_entrada(tabla, base):\n",
    "    z_values = tabla.loc['Z'][:-1]  # Excluyendo el lado derecho\n",
    "    z_values = z_values.drop(labels=base, errors='ignore')  # ← evitar repetir variables de la base\n",
    "    indice_mas_neg = np.argmin(z_values)  # Posicion del costo reducido más negativo\n",
    "    valor = z_values.iloc[indice_mas_neg]  # Valor del costo reducido más negativo\n",
    "\n",
    "    if valor >= 0:\n",
    "        return None\n",
    "    var_entrada = z_values.index[indice_mas_neg]\n",
    "    print(f\"Variable de entrada: {var_entrada} (costo reducido = {valor:.4f})\")\n",
    "    return var_entrada\n"
   ]
  },
  {
   "cell_type": "markdown",
   "id": "d59d0fbd",
   "metadata": {},
   "source": [
    "3. Calcular razones\n",
    "- Para cada restricción i donde el coeficiente aij de la variable de entrada j es positivo, calcular la razón θi = bi / aij.\n",
    "- Si todos los coeficientes aij ≤ 0, el problema es ilimitado. Terminar.\n",
    "4. Seleccionar variable de salida\n",
    "- La variable básica asociada a la restricción con la menor razón θi sale de la base (regla del mínimo cociente).\n",
    "- Este paso determina el elemento pivote ars en la fila r y columna s."
   ]
  },
  {
   "cell_type": "code",
   "execution_count": 44,
   "id": "2572b02e",
   "metadata": {},
   "outputs": [],
   "source": [
    "def calcular_razones(tabla, var_entrada):\n",
    "    # Calcular las razones para determinar la variable de salida\n",
    "    razones = []\n",
    "    filas_basicas = tabla.index[:-1]  # Excluyendo la fila Z\n",
    "    for fila in filas_basicas:\n",
    "        coef = tabla.loc[fila, var_entrada]\n",
    "        ld = tabla.loc[fila, 'lado derecho']\n",
    "        if coef > 0:\n",
    "            razon = ld / coef\n",
    "            razones.append(razon)\n",
    "        else:\n",
    "            razones.append( np.inf)\n",
    "    idx_var_salida = np.argmin(razones)\n",
    "    var_salida = filas_basicas[idx_var_salida]\n",
    "    print(f\"Variable de salida: {var_salida} (razón mínima = {razones[idx_var_salida]:.4f})\")\n",
    "    return var_salida"
   ]
  },
  {
   "cell_type": "markdown",
   "id": "ba574ac9",
   "metadata": {},
   "source": [
    "5.  Actualizar la tabla (operación de pivoteo):\n",
    "- Dividir la fila del pivote r por el valor del pivote ars.\n",
    "- Para cada fila i ̸= r: Restar de la fila i la fila pivote multiplicada por ais.\n",
    "\n",
    "-> Dividir fila pivote </br>\n",
    "-> Resto de filas: fila = fila - coef * fila pivote\n",
    "\n",
    "- Actualizar la lista de variables básicas (reemplazar la variable que sale por la que entra)."
   ]
  },
  {
   "cell_type": "code",
   "execution_count": 45,
   "id": "e45a25ad",
   "metadata": {},
   "outputs": [],
   "source": [
    "def pivoteo(tabla, var_entrada, var_salida):\n",
    "    nueva_tabla = tabla.copy()\n",
    "    print(f\"\\nPivoteo: {var_entrada} entra, {var_salida} sale\")\n",
    "    pivote = nueva_tabla.loc[var_salida, var_entrada]  # Elemento pivote\n",
    "    print(f\"Elemento pivote: {pivote}\")\n",
    "    nueva_tabla.loc[var_salida] = nueva_tabla.loc[var_salida] / pivote  \n",
    "\n",
    "    # volver 0 los demás elementos de la columna de la variable de entrada\n",
    "    for fila in nueva_tabla.index:\n",
    "        if fila != var_salida:\n",
    "            coef = nueva_tabla.loc[fila, var_entrada]\n",
    "            nueva_tabla.loc[fila] = nueva_tabla.loc[fila] - coef * nueva_tabla.loc[var_salida]\n",
    "    \n",
    "    # Actualizar la variable básica\n",
    "    \n",
    "    nueva_base =  []\n",
    "    for fila in nueva_tabla.index[:-1]:\n",
    "        if fila == var_salida:\n",
    "            nueva_base.append(var_entrada)  # Cambiar la variable básica , reemplazar la variable que sale por la que entra\n",
    "        else:\n",
    "            nueva_base.append(fila) # Mantener la variable básica\n",
    "    nueva_tabla.index = nueva_base + ['Z']  # Actualizar el índice de la tabla\n",
    "    return nueva_tabla, nueva_base  "
   ]
  },
  {
   "cell_type": "markdown",
   "id": "0b9c8a5e",
   "metadata": {},
   "source": [
    "6. Simplex e iterar volviendo al paso 2"
   ]
  },
  {
   "cell_type": "code",
   "execution_count": 46,
   "id": "0dae57ff",
   "metadata": {},
   "outputs": [
    {
     "name": "stdout",
     "output_type": "stream",
     "text": [
      "\n",
      " Iteración 0\n",
      "Costos reducidos:\n",
      "+----+------+------+------+------+------+------+------+----------------+\n",
      "|    |   x1 |   x2 |   x3 |   x4 |   x5 |   x6 |   x7 |   lado derecho |\n",
      "|----+------+------+------+------+------+------+------+----------------|\n",
      "| x4 |    2 |    1 |   -1 |    1 |    0 |    0 |    0 |             10 |\n",
      "| x6 |    1 |   -3 |    2 |    0 |   -1 |    1 |    0 |              5 |\n",
      "| x7 |    1 |    1 |    1 |    0 |    0 |    0 |    1 |             15 |\n",
      "| Z  |   -3 |    2 |   -1 |   -1 |    1 |   -1 |    0 |            -15 |\n",
      "+----+------+------+------+------+------+------+------+----------------+\n",
      "\n",
      "Variable de entrada: x1 (costo reducido = -3.0000)\n",
      "Variable de salida: x4 (razón mínima = 5.0000)\n",
      "\n",
      "Pivoteo: x1 entra, x4 sale\n",
      "Elemento pivote: 2.0\n",
      " Tabla después del pivoteo:\n",
      "+----+------+------+------+------+------+------+------+----------------+\n",
      "|    |   x1 |   x2 |   x3 |   x4 |   x5 |   x6 |   x7 |   lado derecho |\n",
      "|----+------+------+------+------+------+------+------+----------------|\n",
      "| x1 |    1 |  0.5 | -0.5 |  0.5 |    0 |    0 |    0 |              5 |\n",
      "| x6 |    0 | -3.5 |  2.5 | -0.5 |   -1 |    1 |    0 |              0 |\n",
      "| x7 |    0 |  0.5 |  1.5 | -0.5 |    0 |    0 |    1 |             10 |\n",
      "| Z  |    0 |  3.5 | -2.5 |  0.5 |    1 |   -1 |    0 |              0 |\n",
      "+----+------+------+------+------+------+------+------+----------------+\n",
      "\n",
      "\n",
      " Iteración 1\n",
      "Costos reducidos:\n",
      "+----+------+------+------+------+------+------+------+----------------+\n",
      "|    |   x1 |   x2 |   x3 |   x4 |   x5 |   x6 |   x7 |   lado derecho |\n",
      "|----+------+------+------+------+------+------+------+----------------|\n",
      "| x1 |    1 |  0.5 | -0.5 |  0.5 |    0 |    0 |    0 |              5 |\n",
      "| x6 |    0 | -3.5 |  2.5 | -0.5 |   -1 |    1 |    0 |              0 |\n",
      "| x7 |    0 |  0.5 |  1.5 | -0.5 |    0 |    0 |    1 |             10 |\n",
      "| Z  |    0 |  3.5 | -2.5 |  0.5 |    1 |   -1 |    0 |              0 |\n",
      "+----+------+------+------+------+------+------+------+----------------+\n",
      "\n",
      "Variable de entrada: x3 (costo reducido = -2.5000)\n",
      "Variable de salida: x6 (razón mínima = 0.0000)\n",
      "\n",
      "Pivoteo: x3 entra, x6 sale\n",
      "Elemento pivote: 2.5\n",
      " Tabla después del pivoteo:\n",
      "+----+------+------+------+------+------+------+------+----------------+\n",
      "|    |   x1 |   x2 |   x3 |   x4 |   x5 |   x6 |   x7 |   lado derecho |\n",
      "|----+------+------+------+------+------+------+------+----------------|\n",
      "| x1 |    1 | -0.2 |    0 |  0.4 | -0.2 |  0.2 |    0 |              5 |\n",
      "| x3 |    0 | -1.4 |    1 | -0.2 | -0.4 |  0.4 |    0 |              0 |\n",
      "| x7 |    0 |  2.6 |    0 | -0.2 |  0.6 | -0.6 |    1 |             10 |\n",
      "| Z  |    0 |  0   |    0 |  0   |  0   |  0   |    0 |              0 |\n",
      "+----+------+------+------+------+------+------+------+----------------+\n",
      "\n",
      "\n",
      " Iteración 2\n",
      "Costos reducidos:\n",
      "+----+------+------+------+------+------+------+------+----------------+\n",
      "|    |   x1 |   x2 |   x3 |   x4 |   x5 |   x6 |   x7 |   lado derecho |\n",
      "|----+------+------+------+------+------+------+------+----------------|\n",
      "| x1 |    1 | -0.2 |    0 |  0.4 | -0.2 |  0.2 |    0 |              5 |\n",
      "| x3 |    0 | -1.4 |    1 | -0.2 | -0.4 |  0.4 |    0 |              0 |\n",
      "| x7 |    0 |  2.6 |    0 | -0.2 |  0.6 | -0.6 |    1 |             10 |\n",
      "| Z  |    0 |  0   |    0 |  0   |  0   |  0   |    0 |              0 |\n",
      "+----+------+------+------+------+------+------+------+----------------+\n",
      "\n",
      "\n",
      " Solución óptima alcanzada (Fase 1 terminada).\n"
     ]
    }
   ],
   "source": [
    "def simplex(tabla, base):\n",
    "    iteracion = 0\n",
    "\n",
    "    while True:\n",
    "        print(f\"\\n Iteración {iteracion}\")\n",
    "        tabla = calcular_costos_reducidos(tabla, base)  # Calcular costos reducidos\n",
    "\n",
    "        print(\"Costos reducidos:\")\n",
    "        show_table(tabla) \n",
    "\n",
    "        if verificar_optimalidad(tabla):\n",
    "            print(\"\\n Solución óptima alcanzada (Fase 1 terminada).\")\n",
    "            break\n",
    "\n",
    "        var_entrada = seleccionar_var_entrada(tabla, base)  # Seleccionar variable de entrada\n",
    "\n",
    "        if var_entrada is None:\n",
    "            print(\"No hay variable de entrada. Ha terminado el algoritmo.\")\n",
    "            break\n",
    "\n",
    "        var_salida = calcular_razones(tabla, var_entrada)\n",
    "\n",
    "        tabla, base = pivoteo(tabla, var_entrada, var_salida)  # Pivoteo actualiza tabla y base\n",
    "\n",
    "        print(\" Tabla después del pivoteo:\")\n",
    "        show_table(tabla) \n",
    "        iteracion += 1\n",
    "\n",
    "    return tabla, base\n",
    "\n",
    "tabla_inicial= tabla_inicial.astype(float)  \n",
    "tabla_final, base_final = simplex(tabla_inicial.copy(), base.copy())\n",
    "\n"
   ]
  },
  {
   "cell_type": "markdown",
   "id": "7374d424",
   "metadata": {},
   "source": [
    "#### d.  Verificar si se encontró una solución básica factible para el problema original.\n",
    "\n",
    "Si es una SBF, pues todos los valores de Z son mayores a 0"
   ]
  },
  {
   "cell_type": "markdown",
   "id": "22878f18",
   "metadata": {},
   "source": [
    "Ya que se encontró la SBF, se prosigue con la fase 2\n",
    "\n",
    "## FASE 2\n",
    "\n",
    "1. Preparar la tabla Simplex:\n",
    "-  Eliminar todas las variables artificiales.\n",
    "\n"
   ]
  },
  {
   "cell_type": "code",
   "execution_count": 47,
   "id": "e2db0e8b",
   "metadata": {},
   "outputs": [],
   "source": [
    "def eliminar_artificiales(tabla,base, artificiales):\n",
    "    tabla_final = tabla.copy()\n",
    "    # Eliminar variables artificiales de la tabla\n",
    "    tabla_final = tabla_final.drop(artificiales, axis=1)\n",
    "    base_final = [var for var in base if var not in artificiales]  # Actualizar la base eliminando variables artificiales\n",
    "\n",
    "    return tabla_final, base_final\n"
   ]
  },
  {
   "cell_type": "markdown",
   "id": "6c643bab",
   "metadata": {},
   "source": [
    "-  Restablecer la función objetivo original."
   ]
  },
  {
   "cell_type": "code",
   "execution_count": 48,
   "id": "f7ef775a",
   "metadata": {},
   "outputs": [],
   "source": [
    "def restablecer_f_o(tabla, coeficientes_z):\n",
    "    tabla.loc['Z'] = [coeficientes_z.get(col, 0) for col in tabla.columns]\n",
    "    return tabla\n"
   ]
  },
  {
   "cell_type": "markdown",
   "id": "52f80014",
   "metadata": {},
   "source": [
    "-  Calcular la fila de costos reducidos para la función objetivo original.\n",
    "\n",
    "2. Aplicar el método Simplex estándar:\n",
    "-  Continuar con el método Simplex estándar desde la SBF encontrada en la Fase I.\n",
    "- Retornar la solución óptima o indicar que el problema es ilimitado."
   ]
  },
  {
   "cell_type": "code",
   "execution_count": 49,
   "id": "32d8a986",
   "metadata": {},
   "outputs": [
    {
     "name": "stdout",
     "output_type": "stream",
     "text": [
      "\n",
      " Iteración 0\n",
      "Costos reducidos:\n",
      "+----+------+------+------+------+------+----------------+\n",
      "|    |   x1 |   x2 |   x3 |   x5 |   x7 |   lado derecho |\n",
      "|----+------+------+------+------+------+----------------|\n",
      "| x1 |    1 | -0.2 |    0 | -0.2 |    0 |              5 |\n",
      "| x3 |    0 | -1.4 |    1 | -0.4 |    0 |              0 |\n",
      "| x7 |    0 |  2.6 |    0 |  0.6 |    1 |             10 |\n",
      "| Z  |   -5 |  5.2 |   -3 |  2.2 |    0 |            -25 |\n",
      "+----+------+------+------+------+------+----------------+\n",
      "\n",
      "No hay variable de entrada. Ha terminado el algoritmo.\n",
      "\n",
      "Tabla final (Fase II):\n",
      "+----+------+------+------+------+------+----------------+\n",
      "|    |   x1 |   x2 |   x3 |   x5 |   x7 |   lado derecho |\n",
      "|----+------+------+------+------+------+----------------|\n",
      "| x1 |    1 | -0.2 |    0 | -0.2 |    0 |              5 |\n",
      "| x3 |    0 | -1.4 |    1 | -0.4 |    0 |              0 |\n",
      "| x7 |    0 |  2.6 |    0 |  0.6 |    1 |             10 |\n",
      "| Z  |   -5 |  5.2 |   -3 |  2.2 |    0 |            -25 |\n",
      "+----+------+------+------+------+------+----------------+\n",
      "\n",
      "\n",
      " Solución óptima (x1,x2,x3 y Z):\n",
      "x1 = 5.0\n",
      "x2 = 0.0\n",
      "x3 = 0.0\n",
      "\n",
      " Valor óptimo de Z: 25.0\n"
     ]
    }
   ],
   "source": [
    "def simplex_fase_2(tabla, base):\n",
    "\n",
    "    tabla_sin_art, base_sin_art = eliminar_artificiales(tabla, base, artificiales)\n",
    "    tabla_f_o_rest = restablecer_f_o(tabla_sin_art, coeficientes_z)\n",
    "    tabla_fase_2, base_fase_2 = simplex(tabla_f_o_rest.copy(), base_sin_art.copy())\n",
    "    return tabla_fase_2, base_fase_2  # Devolver la tabla y la base de la fase 2\n",
    "\n",
    "tabla_fase_2, base_fase_2 = simplex_fase_2(tabla_final.copy(), base_final.copy())\n",
    "print(\"\\nTabla final (Fase II):\")\n",
    "show_table(tabla_fase_2)  # Mostrar la tabla final de la fase II\n",
    "\n",
    "\n",
    "## PARA IMPRIMIR\n",
    "variables_originales = ['x1', 'x2', 'x3']\n",
    "\n",
    "print(\"\\n Solución óptima (x1,x2,x3 y Z):\")\n",
    "for var in variables_originales:\n",
    "    if var in base_fase_2:\n",
    "        valor = tabla_fase_2.loc[var, 'lado derecho']\n",
    "    else:\n",
    "        valor = 0.0\n",
    "    # Mostrar el valor de cada variable\n",
    "    print(f\"{var} = {valor.__float__():.1f}\")\n",
    "\n",
    "valor_otimo = -tabla_fase_2.loc['Z', 'lado derecho']  # Valor óptimo de Z, se pone el signo negativo porque es un problema de minimización\n",
    "print(f\"\\n Valor óptimo de Z: {valor_otimo}\")"
   ]
  },
  {
   "cell_type": "markdown",
   "id": "a665e9ab",
   "metadata": {},
   "source": [
    "#### Analisis:\n",
    " ##### Se encontraron diferentes conclusiones luego de utilizar la anterior implementacion de simplex dual phase. En primer lugar, La solucion obtenida luego de aplicar simplex fase 1 y fase 2 satisface todas las restricciones del problema. Además. la variable x2 no está en las basicas de la solución final, con valor 0, lo que significa que no participa en la combinación óptima. También es importante mencionar que la solucion optima ya habia sido encontrada en la Fase 1, lo que se evidencia en la fase 2 pues no surgen más iteraciones, luego de calcular los costos reducidos de la tabla de entrada a simplex fase 2 obtenemos la solucion optima para los valores de la ecuacion y el valor optimo de Z.\n",
    "\n"
   ]
  }
 ],
 "metadata": {
  "kernelspec": {
   "display_name": "Python 3",
   "language": "python",
   "name": "python3"
  },
  "language_info": {
   "codemirror_mode": {
    "name": "ipython",
    "version": 3
   },
   "file_extension": ".py",
   "mimetype": "text/x-python",
   "name": "python",
   "nbconvert_exporter": "python",
   "pygments_lexer": "ipython3",
   "version": "3.12.1"
  }
 },
 "nbformat": 4,
 "nbformat_minor": 5
}
